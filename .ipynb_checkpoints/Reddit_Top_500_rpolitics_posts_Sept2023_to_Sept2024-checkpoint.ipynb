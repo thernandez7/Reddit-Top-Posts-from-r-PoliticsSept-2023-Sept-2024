{
 "cells": [
  {
   "cell_type": "code",
   "execution_count": 7,
   "id": "b980036f",
   "metadata": {},
   "outputs": [],
   "source": [
    "#pip install praw #use PRAW to interact with the Reddit API\n",
    "#ameleish share in github "
   ]
  },
  {
   "cell_type": "code",
   "execution_count": 9,
   "id": "a168f722",
   "metadata": {},
   "outputs": [
    {
     "name": "stdout",
     "output_type": "stream",
     "text": [
      "Fetched 500 posts\n",
      "1. Title: Ocasio-Cortez calls for Thomas impeachment after report of undisclosed gifts from GOP donor | Score: 104228 | URL: https://thehill.com/homenews/house/3937388-ocasio-cortez-calls-for-thomas-impeachment-after-report-of-undisclosed-gifts-from-gop-donor/\n",
      "2. Title: North Dakota senators vote to boost their own meal reimbursements after rejecting free school lunch bill | Score: 90262 | URL: https://www.inforum.com/news/north-dakota/north-dakota-senators-boost-their-own-meal-reimbursements-after-rejecting-free-school-lunch-bill\n",
      "3. Title: Bombshell Audio Shows Ted Cruz Scheming to Steal Election | Score: 86687 | URL: https://www.thedailybeast.com/ari-melber-on-msnbc-airs-bombshell-audio-showing-ted-cruz-scheming-to-steal-election\n",
      "4. Title: Jury finds Donald Trump sexually abused E. Jean Carroll in civil case | Score: 84778 | URL: https://www.cnn.com/2023/05/09/politics/e-jean-carroll-trump-lawsuit-battery-defamation-verdict/index.html?adobe_mc=TS=1683659562%7CMCMID=51666948411744053314026983511489297570%7CMCORGID=7FF852E2556756057F000101@AdobeOrg\n",
      "5. Title: Clarence Thomas Secretly Accepted Luxury Trips From Major GOP Donor | Score: 78240 | URL: https://www.propublica.org/article/clarence-thomas-scotus-undisclosed-luxury-travel-gifts-crow\n",
      "6. Title: Clarence Thomas sold his childhood home to GOP donor Harlan Crow and never disclosed it. The justice's 94-year-old mom still lives there | Score: 77992 | URL: https://www.businessinsider.com/clarence-thomas-sold-his-childhood-home-gop-donor-harlan-crow-2023-4\n",
      "7. Title: Disney sues Florida Gov. Ron DeSantis, alleges political effort to hurt its business | Score: 75906 | URL: https://www.cnbc.com/2023/04/26/disney-sues-florida-gov-ron-desantis-alleges-political-effort-to-hurt-its-business.html\n",
      "8. Title: Megathread: Trump Indicted by Federal Prosecutors on Charges Related to Handling of Classified Documents | Score: 75200 | URL: https://www.reddit.com/r/politics/comments/144pdan/megathread_trump_indicted_by_federal_prosecutors/\n",
      "9. Title: Enough is enough. Clarence Thomas must resign — or be impeached. | Score: 74631 | URL: https://www.msnbc.com/opinion/msnbc-opinion/clarence-thomas-ginni-supreme-court-ethics-rcna83062\n",
      "10. Title: Dianne Feinstein Faces Resign Calls After Missing 60 Senate Votes in 2023 | Score: 71367 | URL: https://www.newsweek.com/dianne-feinstein-resign-senate-votes-judges-1793885\n",
      "Data saved\n"
     ]
    }
   ],
   "source": [
    "import praw\n",
    "import json\n",
    "from datetime import datetime\n",
    "\n",
    "#Connect to API with my credentials\n",
    "reddit = praw.Reddit(\n",
    "    client_id='w-kwRyPigyjYeG9DOiDc8g',  # Client ID from the Reddit App\n",
    "    client_secret='ZeDsvNH2YlpVH7F9wEWPkt5wkjLzqA',  # Client Secret from the Reddit App\n",
    "    user_agent='election_reddit_script'  #script name\n",
    ")\n",
    "\n",
    "subreddit = reddit.subreddit('politics')\n",
    "# Fetch the top 100 posts from the past month\n",
    "top_posts = []\n",
    "for post in subreddit.top(limit=500, time_filter='year'):  # can change 'month' to 'day', 'week', etc\n",
    "    top_posts.append({\n",
    "        'title': post.title,\n",
    "        'score': post.score,\n",
    "        'url': post.url,\n",
    "        'id': post.id,\n",
    "        'author': str(post.author),\n",
    "        'text': post.selftext,\n",
    "        'created_utc': post.created_utc,\n",
    "        'num_comments': post.num_comments,\n",
    "    })\n",
    "\n",
    "# Display the number of posts fetched\n",
    "print(f\"Fetched {len(top_posts)} posts\")\n",
    "\n",
    "#Display a summary of the first 10 posts\n",
    "for i, post in enumerate(top_posts[:10]):\n",
    "    print(f\"{i+1}. Title: {post['title']} | Score: {post['score']} | URL: {post['url']}\")\n",
    "    \n",
    "    \n",
    "# Save the data to a JSON file\n",
    "with open('past_year_top_posts_API_RAW_DATA.json', 'w') as f:\n",
    "    json.dump(top_posts, f, indent=4)\n",
    "\n",
    "print(\"Data saved\")\n"
   ]
  },
  {
   "cell_type": "code",
   "execution_count": 10,
   "id": "2939441c",
   "metadata": {},
   "outputs": [
    {
     "name": "stdout",
     "output_type": "stream",
     "text": [
      "Updated date timestamp to human-readable, and added Rank field\n"
     ]
    }
   ],
   "source": [
    "#convert the UTC timestamp into human-readable dates \n",
    "def convert_utc_to_date(utc_timestamp):\n",
    "    return datetime.utcfromtimestamp(utc_timestamp).strftime('%Y-%m-%d')\n",
    "\n",
    "for i, post in enumerate(top_posts, start=1):  # enumerate to get rank (i) starting from 1\n",
    "    post['rank'] = i  # Add rank field (1-100)\n",
    "    post['created_date'] =convert_utc_to_date(post['created_utc'])\n",
    "    del post['created_utc']  # Remove the old 'created_utc' field\n",
    "    \n",
    "# Save the updated data to a new or existing JSON file\n",
    "with open('coverted_timestamps_top_posts.json', 'w') as f:\n",
    "    json.dump(top_posts, f, indent=4)\n",
    "    \n",
    "print(\"Updated date timestamp to human-readable, and added Rank field\")"
   ]
  },
  {
   "cell_type": "code",
   "execution_count": 11,
   "id": "e0f6bb54",
   "metadata": {},
   "outputs": [
    {
     "name": "stdout",
     "output_type": "stream",
     "text": [
      "Saved 95 posts for 2023-04 in reddit_top_posts_by_month/2023-04.json\n",
      "Saved 91 posts for 2023-05 in reddit_top_posts_by_month/2023-05.json\n",
      "Saved 74 posts for 2023-06 in reddit_top_posts_by_month/2023-06.json\n",
      "Saved 40 posts for 2023-08 in reddit_top_posts_by_month/2023-08.json\n",
      "Saved 20 posts for 2023-09 in reddit_top_posts_by_month/2023-09.json\n",
      "Saved 2 posts for 2024-04 in reddit_top_posts_by_month/2024-04.json\n",
      "Saved 20 posts for 2023-12 in reddit_top_posts_by_month/2023-12.json\n",
      "Saved 33 posts for 2024-03 in reddit_top_posts_by_month/2024-03.json\n",
      "Saved 37 posts for 2023-07 in reddit_top_posts_by_month/2023-07.json\n",
      "Saved 21 posts for 2024-01 in reddit_top_posts_by_month/2024-01.json\n",
      "Saved 21 posts for 2023-10 in reddit_top_posts_by_month/2023-10.json\n",
      "Saved 29 posts for 2024-02 in reddit_top_posts_by_month/2024-02.json\n",
      "Saved 17 posts for 2023-11 in reddit_top_posts_by_month/2023-11.json\n"
     ]
    }
   ],
   "source": [
    "import collections\n",
    "import datetime\n",
    "import os\n",
    "\n",
    "# Create a dictionary to hold lists of posts for each month\n",
    "posts_by_month_dict = collections.defaultdict(list)\n",
    "\n",
    "for post in top_posts:\n",
    "    # Extract the year and month from 'created_date' field\n",
    "    month_year = post['created_date'][:7]  # This gives 'YYYY-MM'\n",
    "\n",
    "    # Add the post to the corresponding month-year key\n",
    "    posts_by_month_dict[month_year].append(post)\n",
    "    \n",
    "    \n",
    "# Make directory to save the monthly JSON files\n",
    "output_dir = \"reddit_top_posts_by_month\"\n",
    "if not os.path.exists(output_dir):\n",
    "    os.makedirs(output_dir)\n",
    "    \n",
    "for month, post_list in posts_by_month_dict.items():\n",
    "    # Define the file name based on the month\n",
    "    file_name = f\"{output_dir}/{month}.json\"\n",
    "\n",
    "    # Save the list of posts to the file\n",
    "    with open(file_name, 'w') as f:\n",
    "        json.dump(post_list, f, indent=4)\n",
    "    print(f\"Saved {len(post_list)} posts for {month} in {file_name}\")    \n",
    "\n",
    "    "
   ]
  },
  {
   "cell_type": "code",
   "execution_count": 8,
   "id": "94d88ca7",
   "metadata": {},
   "outputs": [
    {
     "name": "stdout",
     "output_type": "stream",
     "text": [
      "Already up to date.\n"
     ]
    }
   ],
   "source": [
    "#GIT COMMANDS\n",
    "#!git add .\n",
    "#!git commit -m \"Changed README Metadata fields\"\n",
    "#!git push origin main\n",
    "#!git pull"
   ]
  },
  {
   "cell_type": "code",
   "execution_count": null,
   "id": "6d0dbf60",
   "metadata": {},
   "outputs": [],
   "source": [
    "\n"
   ]
  }
 ],
 "metadata": {
  "kernelspec": {
   "display_name": "Python 3 (ipykernel)",
   "language": "python",
   "name": "python3"
  },
  "language_info": {
   "codemirror_mode": {
    "name": "ipython",
    "version": 3
   },
   "file_extension": ".py",
   "mimetype": "text/x-python",
   "name": "python",
   "nbconvert_exporter": "python",
   "pygments_lexer": "ipython3",
   "version": "3.9.12"
  }
 },
 "nbformat": 4,
 "nbformat_minor": 5
}
