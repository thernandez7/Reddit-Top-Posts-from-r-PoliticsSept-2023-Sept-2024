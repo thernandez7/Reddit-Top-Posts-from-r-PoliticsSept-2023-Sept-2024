{
 "cells": [
  {
   "cell_type": "code",
   "execution_count": 16,
   "id": "b980036f",
   "metadata": {},
   "outputs": [],
   "source": [
    "#pip install praw #use PRAW to interact with the Reddit API"
   ]
  },
  {
   "cell_type": "code",
   "execution_count": 1,
   "id": "a168f722",
   "metadata": {},
   "outputs": [
    {
     "name": "stdout",
     "output_type": "stream",
     "text": [
      "Fetched 500 posts\n",
      "1. Title: Megathread: Former US President Donald Trump Convicted in New York Criminal Fraud Case on 34 Out of 34 Charges | Score: 89503 | URL: https://www.reddit.com/r/politics/comments/1d4emcb/megathread_former_us_president_donald_trump/\n",
      "2. Title: Calls for J.D. Vance to resign after he admits that he created pet-eating story about immigrants | Score: 84774 | URL: https://www.nj.com/politics/2024/09/calls-for-jd-vance-to-resign-after-he-admits-that-he-created-pet-eating-story-about-immigrants.html?utm_medium=social&utm_source=redditsocial\n",
      "3. Title: Taylor Swift endorses Kamala Harris | Score: 80277 | URL: https://www.nbcnews.com/politics/2024-election/taylor-swift-endorses-kamala-harris-rcna170547\n",
      "4. Title: Trump Tells Christians They Won’t Have to Vote in Future: ‘We’ll Have It Fixed’ | Score: 77871 | URL: https://www.rollingstone.com/politics/politics-news/trump-if-reelected-wont-have-to-vote-fixed-1235069397/\n",
      "5. Title: Trump Warns That if Kamala Harris Wins, ‘Everybody Gets Health Care’ | Score: 70664 | URL: https://www.rollingstone.com/politics/politics-news/trump-kamala-harris-wins-everybody-gets-health-care-1235081328/\n",
      "6. Title: Gov. Tim Walz doesn't own a single stock | Score: 62834 | URL: https://www.axios.com/2024/08/07/tim-walz-vp-pick-investment-portfolio\n",
      "7. Title: Megathread: Vice President Kamala Harris Announces Minnesota Governor Tim Walz as Her 2024 Running Mate | Score: 61405 | URL: https://www.reddit.com/r/politics/comments/1elhbeb/megathread_vice_president_kamala_harris_announces/\n",
      "8. Title: Clarence Thomas Took Free Yacht Trip to Russia, Chopper Flight to Putin’s Hometown: Dems | Score: 60608 | URL: https://www.thedailybeast.com/clarence-thomas-accepted-yacht-trip-to-russia-chopper-flight-to-putins-hometown-democrats\n",
      "9. Title: Kamala Harris wants Trump's mic to stay unmuted the whole time during their upcoming debate | Score: 60272 | URL: https://www.businessinsider.com/kamala-harris-donald-trump-debate-microphone-philadelphia-2024-8\n",
      "10. Title: Joe Biden to Focus on Supreme Court Reform in Final Six Months | Score: 58661 | URL: https://www.newsweek.com/joe-biden-white-house-address-supreme-court-reform-scotus-1930016\n",
      "Data saved\n"
     ]
    }
   ],
   "source": [
    "import praw\n",
    "import json\n",
    "from datetime import datetime\n",
    "\n",
    "#Connect to API with my credentials\n",
    "reddit = praw.Reddit(\n",
    "    client_id='w-kwRyPigyjYeG9DOiDc8g',  # Client ID from the Reddit App\n",
    "    client_secret='ZeDsvNH2YlpVH7F9wEWPkt5wkjLzqA',  # Client Secret from the Reddit App\n",
    "    user_agent='election_reddit_script'  #script name\n",
    ")\n",
    "\n",
    "subreddit = reddit.subreddit('politics')\n",
    "# Fetch the top 800 posts from the past month\n",
    "top_posts = []\n",
    "for post in subreddit.top(limit=500, time_filter='year'):  # can change to 'month' to 'day', 'week', etc\n",
    "    top_posts.append({\n",
    "        'title': post.title,\n",
    "        'score': post.score,\n",
    "        'url': post.url,\n",
    "        'id': post.id,\n",
    "        'author': str(post.author),\n",
    "        'text': post.selftext,\n",
    "        'created_utc': post.created_utc,\n",
    "        'num_comments': post.num_comments,\n",
    "    })\n",
    "\n",
    "# Display the number of posts fetched\n",
    "print(f\"Fetched {len(top_posts)} posts\")\n",
    "\n",
    "#Display a summary of the first 10 posts\n",
    "for i, post in enumerate(top_posts[:10]):\n",
    "    print(f\"{i+1}. Title: {post['title']} | Score: {post['score']} | URL: {post['url']}\")\n",
    "    \n",
    "    \n",
    "# Save the data to a JSON file\n",
    "with open('past_year_top_posts_API_RAW_DATA.json', 'w') as f:\n",
    "    json.dump(top_posts, f, indent=4)\n",
    "\n",
    "print(\"Data saved\")\n"
   ]
  },
  {
   "cell_type": "code",
   "execution_count": 2,
   "id": "2939441c",
   "metadata": {},
   "outputs": [
    {
     "name": "stdout",
     "output_type": "stream",
     "text": [
      "Updated date timestamp to human-readable, and added Rank field\n"
     ]
    }
   ],
   "source": [
    "#convert the UTC timestamp into human-readable dates \n",
    "def convert_utc_to_date(utc_timestamp):\n",
    "    return datetime.utcfromtimestamp(utc_timestamp).strftime('%Y-%m-%d')\n",
    "\n",
    "for i, post in enumerate(top_posts, start=1):  #rank (i) starting from 1\n",
    "    post['rank'] = i  # Add rank field (1-500)\n",
    "    post['created_date'] =convert_utc_to_date(post['created_utc'])\n",
    "    #del post['created_utc']  # Remove the old 'created_utc' field\n",
    "    \n",
    "# Save the updated data to a new or existing JSON file\n",
    "with open('past_year_top_posts_API_CONVERTED_DATE_DATA.json', 'w') as f:\n",
    "    json.dump(top_posts, f, indent=4)\n",
    "    \n",
    "print(\"Updated date timestamp to human-readable, and added Rank field\")"
   ]
  },
  {
   "cell_type": "code",
   "execution_count": 3,
   "id": "e0f6bb54",
   "metadata": {
    "scrolled": true
   },
   "outputs": [
    {
     "name": "stdout",
     "output_type": "stream",
     "text": [
      "Saved 20 posts for 2024-05 in reddit_top_posts_by_month/2024-05.json\n",
      "Saved 90 posts for 2024-09 in reddit_top_posts_by_month/2024-09.json\n",
      "Saved 100 posts for 2024-07 in reddit_top_posts_by_month/2024-07.json\n",
      "Saved 100 posts for 2024-08 in reddit_top_posts_by_month/2024-08.json\n",
      "Saved 29 posts for 2024-06 in reddit_top_posts_by_month/2024-06.json\n",
      "Saved 17 posts for 2024-04 in reddit_top_posts_by_month/2024-04.json\n",
      "Saved 20 posts for 2023-12 in reddit_top_posts_by_month/2023-12.json\n",
      "Saved 34 posts for 2024-03 in reddit_top_posts_by_month/2024-03.json\n",
      "Saved 22 posts for 2024-01 in reddit_top_posts_by_month/2024-01.json\n",
      "Saved 21 posts for 2023-10 in reddit_top_posts_by_month/2023-10.json\n",
      "Saved 29 posts for 2024-02 in reddit_top_posts_by_month/2024-02.json\n",
      "Saved 17 posts for 2023-11 in reddit_top_posts_by_month/2023-11.json\n",
      "Saved 1 posts for 2023-09 in reddit_top_posts_by_month/2023-09.json\n"
     ]
    }
   ],
   "source": [
    "import collections\n",
    "import datetime\n",
    "import os\n",
    "\n",
    "# Create a dictionary to hold lists of posts for each month\n",
    "posts_by_month_dict = collections.defaultdict(list)\n",
    "\n",
    "for post in top_posts:\n",
    "    # Extract the year and month from 'created_date' field\n",
    "    month_year = post['created_date'][:7]  # This gives 'YYYY-MM'\n",
    "\n",
    "    # Add the post to the corresponding month-year key\n",
    "    posts_by_month_dict[month_year].append(post)\n",
    "    \n",
    "    \n",
    "# Make directory to save the monthly JSON files\n",
    "output_dir = \"reddit_top_posts_by_month\"\n",
    "if not os.path.exists(output_dir):\n",
    "    os.makedirs(output_dir)\n",
    "    \n",
    "for month, post_list in posts_by_month_dict.items():\n",
    "    # Define the file name based on the month\n",
    "    file_name = f\"{output_dir}/{month}.json\"\n",
    "\n",
    "    # Save the list of posts to the file\n",
    "    with open(file_name, 'w') as f:\n",
    "        json.dump(post_list, f, indent=4)\n",
    "    print(f\"Saved {len(post_list)} posts for {month} in {file_name}\")    \n",
    "\n",
    "    "
   ]
  },
  {
   "cell_type": "code",
   "execution_count": 15,
   "id": "94d88ca7",
   "metadata": {},
   "outputs": [],
   "source": [
    "#GIT COMMANDS\n",
    "#!git add .\n",
    "#!git commit -m \"Added some of DDI-C fields to README\"\n",
    "#!git pull\n",
    "#!git push origin main"
   ]
  },
  {
   "cell_type": "code",
   "execution_count": null,
   "id": "6d0dbf60",
   "metadata": {},
   "outputs": [],
   "source": [
    "\n"
   ]
  }
 ],
 "metadata": {
  "kernelspec": {
   "display_name": "Python 3 (ipykernel)",
   "language": "python",
   "name": "python3"
  },
  "language_info": {
   "codemirror_mode": {
    "name": "ipython",
    "version": 3
   },
   "file_extension": ".py",
   "mimetype": "text/x-python",
   "name": "python",
   "nbconvert_exporter": "python",
   "pygments_lexer": "ipython3",
   "version": "3.9.12"
  }
 },
 "nbformat": 4,
 "nbformat_minor": 5
}
